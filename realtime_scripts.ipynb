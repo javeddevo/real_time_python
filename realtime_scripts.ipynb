{
 "cells": [
  {
   "cell_type": "markdown",
   "metadata": {},
   "source": [
    "# python script to find the path is file or directory"
   ]
  },
  {
   "cell_type": "code",
   "execution_count": 1,
   "metadata": {},
   "outputs": [
    {
     "name": "stdout",
     "output_type": "stream",
     "text": [
      "enter your path:c:\\\\python_projects\n",
      "path exists\n",
      "the give path c:\\\\python_projects is a dir\n"
     ]
    }
   ],
   "source": [
    "import os\n",
    "path=input(\"enter your path:\")\n",
    "if os.path.exists(path):\n",
    "    print(\"path exists\")\n",
    "    if os.path.isfile(path):\n",
    "        print(f\"the given {path} is a file\")\n",
    "    else:\n",
    "        print(f\"the give path {path} is a dir\")\n",
    "else:\n",
    "    print(f\"the given path {path} doesnt not exists\")\n",
    "    "
   ]
  },
  {
   "cell_type": "markdown",
   "metadata": {},
   "source": [
    "# python script to find the content in a path(all dir and the files)"
   ]
  },
  {
   "cell_type": "code",
   "execution_count": 3,
   "metadata": {},
   "outputs": [
    {
     "name": "stdout",
     "output_type": "stream",
     "text": [
      "Enter the path: c:\\\\python_projects\n",
      "['.ipynb_checkpoints', 'arguments.py', 'argv.ipynb', 'Data_Structures_Day_2.ipynb', 'day1.py', 'get.py', 'married.csv', 'marrital_status.txt', 'min_deopsit.csv', 'os_prac.py', 'pandas_slice_merge_join.py', 'practice_2010_may', 'project.csv', 'project_video_3_pp_bank_info.csv.csv', 'python_2020', 'python_basic.ipynb', 'sample.png', 'sample.py', 'sublist.txt', 'Untitled.ipynb', 'untitled.txt', 'Untitled1-Copy1.ipynb', 'Untitled1.ipynb', 'untitled1.txt', 'Untitled10.ipynb', 'Untitled11.ipynb', 'Untitled12.ipynb', 'Untitled13.ipynb', 'Untitled14.ipynb', 'Untitled15.ipynb', 'Untitled16.ipynb', 'Untitled2.ipynb', 'Untitled3.ipynb', 'Untitled4.ipynb', 'Untitled5.ipynb', 'Untitled6.ipynb', 'Untitled7.ipynb', 'Untitled8.ipynb', 'Untitled9.ipynb']\n"
     ]
    }
   ],
   "source": [
    "import os\n",
    "path=input(\"Enter the path: \")\n",
    "if os.path.exists(path):\n",
    "    print(os.listdir(path))\n",
    "else:\n",
    "    print(f\"The give path {path} dose not exsists\")\n",
    "        "
   ]
  },
  {
   "cell_type": "markdown",
   "metadata": {},
   "source": [
    "# python script to find the dir and files in a path"
   ]
  },
  {
   "cell_type": "code",
   "execution_count": 7,
   "metadata": {},
   "outputs": [
    {
     "name": "stdout",
     "output_type": "stream",
     "text": [
      "Enter the path: c:\\\\python_projects\n",
      "Print path exists\n",
      "c:\\\\python_projects\\.ipynb_checkpoints: is a dir\n",
      "c:\\\\python_projects\\arguments.py:is a file\n",
      "c:\\\\python_projects\\argv.ipynb:is a file\n",
      "c:\\\\python_projects\\Data_Structures_Day_2.ipynb:is a file\n",
      "c:\\\\python_projects\\day1.py:is a file\n",
      "c:\\\\python_projects\\get.py:is a file\n",
      "c:\\\\python_projects\\married.csv:is a file\n",
      "c:\\\\python_projects\\marrital_status.txt:is a file\n",
      "c:\\\\python_projects\\min_deopsit.csv:is a file\n",
      "c:\\\\python_projects\\os_prac.py:is a file\n",
      "c:\\\\python_projects\\pandas_slice_merge_join.py:is a file\n",
      "c:\\\\python_projects\\practice_2010_may: is a dir\n",
      "c:\\\\python_projects\\project.csv:is a file\n",
      "c:\\\\python_projects\\project_video_3_pp_bank_info.csv.csv:is a file\n",
      "c:\\\\python_projects\\python_2020: is a dir\n",
      "c:\\\\python_projects\\python_basic.ipynb:is a file\n",
      "c:\\\\python_projects\\sample.png:is a file\n",
      "c:\\\\python_projects\\sample.py:is a file\n",
      "c:\\\\python_projects\\sublist.txt:is a file\n",
      "c:\\\\python_projects\\Untitled.ipynb:is a file\n",
      "c:\\\\python_projects\\untitled.txt:is a file\n",
      "c:\\\\python_projects\\Untitled1-Copy1.ipynb:is a file\n",
      "c:\\\\python_projects\\Untitled1.ipynb:is a file\n",
      "c:\\\\python_projects\\untitled1.txt:is a file\n",
      "c:\\\\python_projects\\Untitled10.ipynb:is a file\n",
      "c:\\\\python_projects\\Untitled11.ipynb:is a file\n",
      "c:\\\\python_projects\\Untitled12.ipynb:is a file\n",
      "c:\\\\python_projects\\Untitled13.ipynb:is a file\n",
      "c:\\\\python_projects\\Untitled14.ipynb:is a file\n",
      "c:\\\\python_projects\\Untitled15.ipynb:is a file\n",
      "c:\\\\python_projects\\Untitled16.ipynb:is a file\n",
      "c:\\\\python_projects\\Untitled2.ipynb:is a file\n",
      "c:\\\\python_projects\\Untitled3.ipynb:is a file\n",
      "c:\\\\python_projects\\Untitled4.ipynb:is a file\n",
      "c:\\\\python_projects\\Untitled5.ipynb:is a file\n",
      "c:\\\\python_projects\\Untitled6.ipynb:is a file\n",
      "c:\\\\python_projects\\Untitled7.ipynb:is a file\n",
      "c:\\\\python_projects\\Untitled8.ipynb:is a file\n",
      "c:\\\\python_projects\\Untitled9.ipynb:is a file\n"
     ]
    }
   ],
   "source": [
    "import os,sys\n",
    "path=input(\"Enter the path: \")\n",
    "if os.path.exists(path):\n",
    "    print(\"Print path exists\")\n",
    "else:\n",
    "    print(\"path doesnt exists\")\n",
    "    sys.exit()\n",
    "list_f_d=os.listdir(path)\n",
    "for each in list_f_d:\n",
    "    l_d=os.path.join(path,each) # you have to add the current path \n",
    "    if os.path.isfile(l_d):\n",
    "        print(f\"{l_d}:is a file\")\n",
    "    else:\n",
    "        print(f\"{l_d}: is a dir\")\n",
    "    "
   ]
  },
  {
   "cell_type": "code",
   "execution_count": 16,
   "metadata": {},
   "outputs": [
    {
     "name": "stdout",
     "output_type": "stream",
     "text": [
      "1 index at: 0\n",
      "2 index at: 1\n",
      "3 index at: 2\n",
      "445 index at: 3\n",
      "4 index at: 4\n",
      "5 index at: 5\n",
      "hi index at: 6\n",
      "the length of each is: 7\n"
     ]
    }
   ],
   "source": [
    "a=0\n",
    "l=0\n",
    "for each in [1,2,3,445,4,5,\"hi\"]:\n",
    "    print(each,\"index at:\",a)\n",
    "    a=a+1\n",
    "    l=l+1\n",
    "print(\"the length of each is:\",l)"
   ]
  },
  {
   "cell_type": "markdown",
   "metadata": {},
   "source": [
    "# even or odd"
   ]
  },
  {
   "cell_type": "markdown",
   "metadata": {},
   "source": [
    "for each in range(0,100):\n",
    "    rem=rem%2\n",
    "    if rem==0:\n",
    "       print(f\"{each} is even no\")\n",
    "    else:\n",
    "       print(f\"{each} is odd\")\n"
   ]
  },
  {
   "cell_type": "code",
   "execution_count": 29,
   "metadata": {},
   "outputs": [
    {
     "name": "stdout",
     "output_type": "stream",
     "text": [
      "1\n",
      "3\n",
      "5\n",
      "7\n",
      "9\n"
     ]
    }
   ],
   "source": [
    "for each in range(0,10):\n",
    "    rem=each%2\n",
    "    if rem!=0:\n",
    "        print(each)"
   ]
  },
  {
   "cell_type": "code",
   "execution_count": 32,
   "metadata": {},
   "outputs": [
    {
     "name": "stdout",
     "output_type": "stream",
     "text": [
      "Enter the sstring:helloworld\n",
      "h -----> 0\n",
      "e -----> 1\n",
      "l -----> 2\n",
      "l -----> 3\n",
      "o -----> 4\n",
      "w -----> 5\n",
      "o -----> 6\n",
      "r -----> 7\n",
      "l -----> 8\n",
      "d -----> 9\n"
     ]
    }
   ],
   "source": [
    "a=input(\"Enter the sstring:\")\n",
    "b=0\n",
    "for each in a:\n",
    "    print(each,\"----->\",b)\n",
    "    b=b+1"
   ]
  },
  {
   "cell_type": "markdown",
   "metadata": {},
   "source": [
    "# python script to find .py.sh.. extension files in directory"
   ]
  },
  {
   "cell_type": "code",
   "execution_count": 15,
   "metadata": {},
   "outputs": [
    {
     "name": "stdout",
     "output_type": "stream",
     "text": [
      "Enter the path:c:b\n",
      "the path you have entered is invalid\n"
     ]
    }
   ],
   "source": [
    "import os\n",
    "path=input(\"Enter the path:\")\n",
    "if os.path.exists(path):\n",
    "    print(\"path sucessfully imported\")\n",
    "    if os.path.isfile(path):\n",
    "         print(\"You have enter the file path plz pass dir\")\n",
    "         sys.exit()\n",
    "    else:\n",
    "     re_f=os.listdir(path)\n",
    "     if len(re_f)==0:\n",
    "        print(\"there are no files present ion directory\")\n",
    "     else:\n",
    "        ex=input(\"plz pass the extension:\")\n",
    "        lis_ex=[]\n",
    "        for each in re_f:\n",
    "            if each.endswith(ex):\n",
    "                lis_ex.append(each)\n",
    "        if len(lis_ex)==0:\n",
    "            print(\"there are no extension with:\",ex)\n",
    "        else:\n",
    "            print(lis_ex)\n",
    "else:\n",
    "    print(\"the path you have entered is invalid\")\n",
    "\n",
    "    "
   ]
  },
  {
   "cell_type": "markdown",
   "metadata": {},
   "source": [
    "# to find index and value for loop"
   ]
  },
  {
   "cell_type": "code",
   "execution_count": 16,
   "metadata": {},
   "outputs": [
    {
     "name": "stdout",
     "output_type": "stream",
     "text": [
      "5\n",
      "range(0, 5)\n",
      "[0, 1, 2, 3, 4]\n",
      "index-->0,value--12\n",
      "index-->1,value--22\n",
      "index-->2,value--32\n",
      "index-->3,value--42\n",
      "index-->4,value--52\n"
     ]
    }
   ],
   "source": [
    "a=[12,22,32,42,52]\n",
    "print(len(a))\n",
    "print(range(len(a)))\n",
    "print(list(range(len(a))))\n",
    "for each in range(len(a)):\n",
    "   print(f\"index-->{each},value--{a[each]}\")"
   ]
  },
  {
   "cell_type": "markdown",
   "metadata": {},
   "source": [
    "# for loop break"
   ]
  },
  {
   "cell_type": "code",
   "execution_count": 21,
   "metadata": {},
   "outputs": [
    {
     "name": "stdout",
     "output_type": "stream",
     "text": [
      "c\\desktop\\hello\n"
     ]
    }
   ],
   "source": [
    "a=[\"c:\\\\lk\",\"c\\\\desktop\\\\hello\",\"c:\\\\hello\",\"c:\\\\hi\"]\n",
    "for each in a:\n",
    "    if \"desktop\" in each:\n",
    "        print(each)\n",
    "        break"
   ]
  },
  {
   "cell_type": "code",
   "execution_count": null,
   "metadata": {},
   "outputs": [],
   "source": [
    "#while loop break\n",
    "count=1\n",
    "while count<=100:\n",
    "    print(count)\n",
    "    if count==2\n",
    "     break\n",
    "    count=count+1"
   ]
  },
  {
   "cell_type": "markdown",
   "metadata": {},
   "source": [
    "# continue"
   ]
  },
  {
   "cell_type": "code",
   "execution_count": null,
   "metadata": {},
   "outputs": [],
   "source": [
    "for each in range(11):\n",
    "    if each==3:\n",
    "        print(each)"
   ]
  },
  {
   "cell_type": "markdown",
   "metadata": {},
   "source": [
    "# python script to remove the files odler than x days"
   ]
  },
  {
   "cell_type": "code",
   "execution_count": 10,
   "metadata": {},
   "outputs": [
    {
     "name": "stdout",
     "output_type": "stream",
     "text": [
      "Enetr the path:C:\\\\python_projects\n",
      "16\n",
      "19\n",
      "24\n",
      "25\n",
      "16\n",
      "15\n",
      "63\n",
      "41\n",
      "21\n",
      "24\n",
      "25\n",
      "19\n",
      "24\n",
      "23\n",
      "23\n",
      "21\n",
      "21\n",
      "20\n",
      "16\n",
      "63\n",
      "41\n",
      "26\n",
      "25\n",
      "24\n",
      "24\n"
     ]
    }
   ],
   "source": [
    "import os\n",
    "import sys\n",
    "import datetime\n",
    "path=input(\"Enetr the path:\")\n",
    "if not os.path.exists(path):\n",
    "    print(\"plz print the valid path\")\n",
    "    sys.exit(1)\n",
    "if os.path.isfile(path):\n",
    "          print(\"plz print the directory path\")\n",
    "          sys.exit(2)\n",
    "else:\n",
    "        day=100\n",
    "        today=datetime.datetime.now()\n",
    "        req_i=os.listdir(path)\n",
    "        for each in req_i:\n",
    "                full_path=os.path.join(path,each)\n",
    "                if os.path.isfile(full_path):\n",
    "                    time_file=os.path.getctime(full_path)\n",
    "                    ac_time=datetime.datetime.fromtimestamp(time_file)\n",
    "                    dif_dates=(today-ac_time).days\n",
    "                    #ac_join=os.path.join(full_path,dif_dates)\n",
    "                    if dif_dates > 1:\n",
    "                        #os.remove(full_path)\n",
    "                        print(dif_dates)\n",
    "                        \n",
    "                         "
   ]
  },
  {
   "cell_type": "markdown",
   "metadata": {},
   "source": [
    "# os.walk\n"
   ]
  },
  {
   "cell_type": "code",
   "execution_count": 41,
   "metadata": {},
   "outputs": [
    {
     "name": "stdout",
     "output_type": "stream",
     "text": [
      "C:\\os.walk\n",
      "C:\\os.walk\\1.txt\n",
      "-----------------------\n",
      "C:\\os.walk\\hello\n",
      "C:\\os.walk\\hello\\2.txt\n",
      "-----------------------\n"
     ]
    }
   ],
   "source": [
    "import os\n",
    "path=\"C:\\\\os.walk\"\n",
    "for p,d,t in list(os.walk(path)):\n",
    "    print(p)\n",
    "    for each in t:\n",
    "        print(os.path.join(p,each))\n",
    "    print(\"-----------------------\")\n",
    "    "
   ]
  },
  {
   "cell_type": "markdown",
   "metadata": {},
   "source": [
    "# to find the file in entire file system"
   ]
  },
  {
   "cell_type": "code",
   "execution_count": null,
   "metadata": {},
   "outputs": [
    {
     "name": "stdout",
     "output_type": "stream",
     "text": [
      "Enter the file name:hello\n"
     ]
    }
   ],
   "source": [
    "import os\n",
    "rq_f=input(\"Enter the file name:\")\n",
    "for r,d,f in os.walk(\"C:\\\\\"):\n",
    "    for each in f:\n",
    "        if each==rq_f:\n",
    "            print(os.path.join(r,each))"
   ]
  },
  {
   "cell_type": "markdown",
   "metadata": {},
   "source": [
    "# to find the possibile drive in os and find the files in entire drives in os"
   ]
  },
  {
   "cell_type": "code",
   "execution_count": null,
   "metadata": {},
   "outputs": [
    {
     "name": "stdout",
     "output_type": "stream",
     "text": [
      "enter the file: 1\n"
     ]
    }
   ],
   "source": [
    "import os\n",
    "import string\n",
    "import platform\n",
    "#print(dir(string))\n",
    "if platform.system()==\"Windows\":\n",
    "    valid_drive=[]\n",
    "    str_upper=string.ascii_uppercase\n",
    "    for each in str_upper:\n",
    "        if os.path.exists(each+\":\\\\\"):\n",
    "            valid_drive.append(each+\":\\\\\")\n",
    "#print(valid_drive)\n",
    "    re_f=input(\"enter the file: \")\n",
    "    for each in valid_drive:\n",
    "        for r,d,f in os.walk(each):\n",
    "            for each_f in f:\n",
    "                if each_f==re_f:\n",
    "                    print(os.path.join(r,each_f))\n",
    "else:\n",
    "    for r,d,f in os.walk(\"/\"):\n",
    "        for each in f:\n",
    "            if each==re_f:\n",
    "                print(os.path.join(f,each))"
   ]
  },
  {
   "cell_type": "markdown",
   "metadata": {},
   "source": [
    "# save output to variable using subprocess"
   ]
  },
  {
   "cell_type": "code",
   "execution_count": 13,
   "metadata": {},
   "outputs": [
    {
     "name": "stdout",
     "output_type": "stream",
     "text": [
      "['Volume', 'in', 'drive', 'C', 'is', 'OS', 'Volume', 'Serial', 'Number', 'is', '568D-98CC', 'Directory', 'of', 'C:\\\\python_projects\\\\python_2020', '05/31/2020', '04:24', 'PM', '<DIR>', '.', '05/31/2020', '04:24', 'PM', '<DIR>', '..', '05/29/2020', '03:06', 'PM', '<DIR>', '.ipynb_checkpoints', '05/14/2020', '11:48', 'AM', '669', 'exe.ipynb', '05/14/2020', '11:40', 'AM', '100', 'exe1.py', '05/28/2020', '09:43', 'PM', '0', 'hello.txt.txt', '05/31/2020', '04:24', 'PM', '17,414', 'realtime_scripts.ipynb', '05/31/2020', '12:02', 'PM', '8,638', 'Untitled.ipynb', '5', 'File(s)', '26,821', 'bytes', '3', 'Dir(s)', '352,503,898,112', 'bytes', 'free']\n",
      "[]\n"
     ]
    }
   ],
   "source": [
    "import subprocess\n",
    "sp=subprocess.Popen(\"dir\",shell=True,stdout=subprocess.PIPE,stderr=subprocess.PIPE,universal_newlines=True)\n",
    "sp.wait()\n",
    "o,e=sp.communicate()\n",
    "print(o.split())\n",
    "print(e.split())\n"
   ]
  },
  {
   "cell_type": "code",
   "execution_count": 90,
   "metadata": {},
   "outputs": [
    {
     "name": "stdout",
     "output_type": "stream",
     "text": [
      " Volume in drive C is OS\n",
      " Volume Serial Number is 568D-98CC\n",
      "\n",
      " Directory of C:\\python_projects\\python_2020\n",
      "\n",
      "05/31/2020  05:08 PM    <DIR>          .\n",
      "05/31/2020  05:08 PM    <DIR>          ..\n",
      "05/29/2020  03:06 PM    <DIR>          .ipynb_checkpoints\n",
      "05/14/2020  11:48 AM               669 exe.ipynb\n",
      "05/14/2020  11:40 AM               100 exe1.py\n",
      "05/28/2020  09:43 PM                 0 hello.txt.txt\n",
      "05/31/2020  05:08 PM            18,622 realtime_scripts.ipynb\n",
      "05/31/2020  12:02 PM             8,638 Untitled.ipynb\n",
      "               5 File(s)         28,029 bytes\n",
      "               3 Dir(s)  352,502,091,776 bytes free\n"
     ]
    }
   ],
   "source": [
    "import platform\n",
    "import subprocess\n",
    "#print(dir(platform))\n",
    "cmd=\"dir\"\n",
    "sp=subprocess.Popen(cmd,shell=True,stdout=subprocess.PIPE,stderr=subprocess.PIPE,universal_newlines=True)\n",
    "rt=sp.wait()\n",
    "o,e=sp.communicate()\n",
    "if rt==0:\n",
    "         for each in o.splitlines():\n",
    "           print(each)\n",
    "else:\n",
    "         print(\"there is an error\")\n"
   ]
  },
  {
   "cell_type": "markdown",
   "metadata": {},
   "source": [
    "# diff between split and splitlines"
   ]
  },
  {
   "cell_type": "markdown",
   "metadata": {},
   "source": [
    "a=\"helloworld this is jabed\"\n",
    "print(a)\n",
    "print(a.split())\n",
    "print(a.splitlines())"
   ]
  },
  {
   "cell_type": "code",
   "execution_count": 99,
   "metadata": {
    "scrolled": true
   },
   "outputs": [
    {
     "name": "stdout",
     "output_type": "stream",
     "text": [
      "3.8.2\n"
     ]
    }
   ],
   "source": [
    "import sys\n",
    "#print(dir(sys))\n",
    "print(sys.version.split()[0])"
   ]
  },
  {
   "cell_type": "markdown",
   "metadata": {},
   "source": [
    "# scripts to run commands on both linux and windows"
   ]
  },
  {
   "cell_type": "code",
   "execution_count": null,
   "metadata": {},
   "outputs": [],
   "source": [
    "import os\n",
    "import time\n",
    "import platform\n",
    "if platform.system()==\"Windows\":\n",
    "    time.sleep(3)\n",
    "    os.system(\"cls\")\n",
    "    os.system(\"dir\")\n",
    "else:\n",
    "    os.system(\"clear\")\n",
    "    time.sleep(4)\n",
    "    os.system(\"ls -lrt\")\n",
    "    "
   ]
  },
  {
   "cell_type": "markdown",
   "metadata": {},
   "source": [
    "# by using functions cmd on both windows and linux"
   ]
  },
  {
   "cell_type": "code",
   "execution_count": 2,
   "metadata": {},
   "outputs": [],
   "source": [
    "import os\n",
    "import time\n",
    "import platform\n",
    "def hello(cmd1,cmd2):\n",
    "    time.sleep(3)\n",
    "    os.system(\"cmd1\")\n",
    "    os.system(\"cmd2\")\n",
    "if platform.system()==\"Windows\":\n",
    "              hello(\"cls\",\"dir\")\n",
    "else:\n",
    "              hello(\"clear\",\"ls-lrt\")    "
   ]
  },
  {
   "cell_type": "markdown",
   "metadata": {},
   "source": [
    "# regex to find emails"
   ]
  },
  {
   "cell_type": "code",
   "execution_count": 4,
   "metadata": {},
   "outputs": [
    {
     "name": "stdout",
     "output_type": "stream",
     "text": [
      "javeedabdul9@gmail.com\n",
      "Hello.ram@gmail.edu\n",
      "uni.23@gmail.com\n",
      "jk-@gmail.com\n"
     ]
    }
   ],
   "source": [
    "#emails\n",
    "import re\n",
    "a=\"\"\"javeedabdul9@gmail.com\n",
    "Hello.ram@gmail.edu\n",
    "uni.23@gmail.com\n",
    "jk-@gmail.com\n",
    "\"\"\"\n",
    "pat=r\"[a-zA-Z0-9\\.-]+@[a-z]+\\.[a-zA-Z0-9]+\"\n",
    "k=re.finditer(pat,a)\n",
    "for each in k:\n",
    "    print(each.group())"
   ]
  },
  {
   "cell_type": "code",
   "execution_count": 3,
   "metadata": {},
   "outputs": [
    {
     "name": "stdout",
     "output_type": "stream",
     "text": [
      "['mr Javeed', 'ms. javeed', 'mrs. Tarun']\n"
     ]
    }
   ],
   "source": [
    "#to find names \n",
    "import re\n",
    "a=\"\"\"mr Javeed has paid 10,000\n",
    "ms. javeed  has paid 2,000\n",
    "mrs. Tarun has paid 40,000\n",
    "\"\"\"\n",
    "pat=r\"m[rs]*\\.?\\s[a-zA-Z]\\w*\"\n",
    "k=re.findall(pat,a)\n",
    "print(k)"
   ]
  },
  {
   "cell_type": "code",
   "execution_count": null,
   "metadata": {},
   "outputs": [],
   "source": []
  }
 ],
 "metadata": {
  "kernelspec": {
   "display_name": "Python 3",
   "language": "python",
   "name": "python3"
  },
  "language_info": {
   "codemirror_mode": {
    "name": "ipython",
    "version": 3
   },
   "file_extension": ".py",
   "mimetype": "text/x-python",
   "name": "python",
   "nbconvert_exporter": "python",
   "pygments_lexer": "ipython3",
   "version": "3.8.2"
  }
 },
 "nbformat": 4,
 "nbformat_minor": 4
}
